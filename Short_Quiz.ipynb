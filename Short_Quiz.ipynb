{
  "nbformat": 4,
  "nbformat_minor": 0,
  "metadata": {
    "colab": {
      "provenance": [],
      "authorship_tag": "ABX9TyPN3rA/K2KO/OSuSYoMvLY4",
      "include_colab_link": true
    },
    "kernelspec": {
      "name": "python3",
      "display_name": "Python 3"
    },
    "language_info": {
      "name": "python"
    }
  },
  "cells": [
    {
      "cell_type": "markdown",
      "metadata": {
        "id": "view-in-github",
        "colab_type": "text"
      },
      "source": [
        "<a href=\"https://colab.research.google.com/github/KurtEmprese/CPEN65-2/blob/main/Short_Quiz.ipynb\" target=\"_parent\"><img src=\"https://colab.research.google.com/assets/colab-badge.svg\" alt=\"Open In Colab\"/></a>"
      ]
    },
    {
      "cell_type": "markdown",
      "source": [
        "6. 13, 6, 60\n",
        "7. 7\n",
        "8. None\n",
        "9. 4, 12, 7, 22\n",
        "10. 13, 6, 60, 23, 21\n",
        "11. 23, 6, 21, 20, 9, 1\n",
        "12. 22, 16, 7, 13, 60, 12, 4\n",
        "13. Depth 3\n",
        "14. Degree 3\n",
        "15. Height of the tree is 4\n",
        "16. Weight of the tree is 6\n",
        "17. No.\n",
        "18. No.\n",
        "19. No.\n",
        "20. No.\n",
        "21. Yes.\n",
        "22. n^h\n",
        "23. logsub(n)m\n",
        "24. (n^h -1)/(n-1)\n",
        "25. (n^(h+1)-1)/(n-1) "
      ],
      "metadata": {
        "id": "KOZgmpS_2SLf"
      }
    }
  ]
}