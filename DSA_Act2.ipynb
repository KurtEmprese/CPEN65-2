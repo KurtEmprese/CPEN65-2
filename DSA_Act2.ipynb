{
  "nbformat": 4,
  "nbformat_minor": 0,
  "metadata": {
    "colab": {
      "provenance": [],
      "authorship_tag": "ABX9TyO5yaKBoXFOecD3Nfjresgo",
      "include_colab_link": true
    },
    "kernelspec": {
      "name": "python3",
      "display_name": "Python 3"
    },
    "language_info": {
      "name": "python"
    }
  },
  "cells": [
    {
      "cell_type": "markdown",
      "metadata": {
        "id": "view-in-github",
        "colab_type": "text"
      },
      "source": [
        "<a href=\"https://colab.research.google.com/github/KurtEmprese/CPEN65-2/blob/main/DSA_Act2.ipynb\" target=\"_parent\"><img src=\"https://colab.research.google.com/assets/colab-badge.svg\" alt=\"Open In Colab\"/></a>"
      ]
    },
    {
      "cell_type": "code",
      "execution_count": 1,
      "metadata": {
        "colab": {
          "base_uri": "https://localhost:8080/"
        },
        "id": "YUjlvMSKHIuD",
        "outputId": "cdf45f83-5d23-4ff9-c5f3-473d3779c48a"
      },
      "outputs": [
        {
          "output_type": "stream",
          "name": "stdout",
          "text": [
            "E S E R P M E   T R U K "
          ]
        }
      ],
      "source": [
        "name = \"KURT EMPRESE\"\n",
        "list = []\n",
        "for x in name:\n",
        "    list.append(x)\n",
        "\n",
        "list.reverse()\n",
        "for i in list:\n",
        "    print(i, end=\" \")"
      ]
    }
  ]
}